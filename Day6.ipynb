{
 "cells": [
  {
   "cell_type": "code",
   "execution_count": 1,
   "metadata": {},
   "outputs": [],
   "source": [
    "import nltk"
   ]
  },
  {
   "cell_type": "code",
   "execution_count": 2,
   "metadata": {},
   "outputs": [],
   "source": [
    "sentence=[(\"the\",\"DT\"),(\"little\",\"JJ\"),(\"yellow\",\"JJ\"),(\"dog\",\"NN\"),(\"barked\",\"VBD\"),(\"at\",\"IN\"),(\"the\",\"DT\"),(\"cat\",\"NN\")]"
   ]
  },
  {
   "cell_type": "code",
   "execution_count": 3,
   "metadata": {},
   "outputs": [],
   "source": [
    "grammar=\"NP:{<DT>?<JJ>*<NN>}\""
   ]
  },
  {
   "cell_type": "code",
   "execution_count": 4,
   "metadata": {},
   "outputs": [
    {
     "name": "stdout",
     "output_type": "stream",
     "text": [
      "(S\n",
      "  (NP the/DT little/JJ yellow/JJ dog/NN)\n",
      "  barked/VBD\n",
      "  at/IN\n",
      "  (NP the/DT cat/NN))\n"
     ]
    }
   ],
   "source": [
    "#productions from CFG for NP and VP\n",
    "\n",
    "c=nltk.RegexpParser(grammar)\n",
    "result = c.parse(sentence)\n",
    "print(result)"
   ]
  },
  {
   "cell_type": "code",
   "execution_count": 5,
   "metadata": {},
   "outputs": [
    {
     "name": "stderr",
     "output_type": "stream",
     "text": [
      "[nltk_data] Downloading package punkt to\n",
      "[nltk_data]     C:\\Users\\Nitu\\AppData\\Roaming\\nltk_data...\n",
      "[nltk_data]   Unzipping tokenizers\\punkt.zip.\n",
      "[nltk_data] Downloading package averaged_perceptron_tagger to\n",
      "[nltk_data]     C:\\Users\\Nitu\\AppData\\Roaming\\nltk_data...\n",
      "[nltk_data]   Unzipping taggers\\averaged_perceptron_tagger.zip.\n"
     ]
    },
    {
     "data": {
      "text/plain": [
       "True"
      ]
     },
     "execution_count": 5,
     "metadata": {},
     "output_type": "execute_result"
    }
   ],
   "source": [
    "result.draw()\n",
    "nltk.download('punkt')\n",
    "nltk.download('averaged_perceptron_tagger')"
   ]
  },
  {
   "cell_type": "code",
   "execution_count": 6,
   "metadata": {},
   "outputs": [],
   "source": [
    "l = \"Four score and seven years ago our fathers roght forth o this continent, a new nation, concieved in Liberty, and dedicated to the proposition that all men are created equal.\"\n"
   ]
  },
  {
   "cell_type": "code",
   "execution_count": 7,
   "metadata": {},
   "outputs": [],
   "source": [
    "from nltk.tokenize import sent_tokenize, word_tokenize\n",
    "sentences = nltk.sent_tokenize(l)\n",
    "for sent in sentences:\n",
    "  words = nltk.word_tokenize(sent)\n",
    "  tagged = nltk.pos_tag(words)"
   ]
  },
  {
   "cell_type": "code",
   "execution_count": 8,
   "metadata": {},
   "outputs": [
    {
     "name": "stdout",
     "output_type": "stream",
     "text": [
      "(S\n",
      "  Four/CD\n",
      "  (NP score/NN)\n",
      "  and/CC\n",
      "  seven/CD\n",
      "  years/NNS\n",
      "  ago/RB\n",
      "  our/PRP$\n",
      "  fathers/NNS\n",
      "  roght/VBD\n",
      "  forth/RB\n",
      "  o/RB\n",
      "  this/DT\n",
      "  (NP continent/NN)\n",
      "  ,/,\n",
      "  a/DT\n",
      "  new/JJ\n",
      "  (NP nation/NN)\n",
      "  ,/,\n",
      "  concieved/VBN\n",
      "  in/IN\n",
      "  Liberty/NNP\n",
      "  ,/,\n",
      "  and/CC\n",
      "  dedicated/VBD\n",
      "  to/TO\n",
      "  the/DT\n",
      "  (NP proposition/NN)\n",
      "  that/IN\n",
      "  all/DT\n",
      "  men/NNS\n",
      "  are/VBP\n",
      "  created/VBN\n",
      "  equal/JJ\n",
      "  ./.)\n"
     ]
    }
   ],
   "source": [
    "#Nouns\n",
    "grammar=\"NP:{<NN>}\"\n",
    "c=nltk.RegexpParser(grammar)\n",
    "result=c.parse(tagged)\n",
    "print(result)\n"
   ]
  },
  {
   "cell_type": "code",
   "execution_count": 9,
   "metadata": {},
   "outputs": [],
   "source": [
    "result.draw()"
   ]
  },
  {
   "cell_type": "code",
   "execution_count": null,
   "metadata": {},
   "outputs": [],
   "source": []
  }
 ],
 "metadata": {
  "kernelspec": {
   "display_name": "Python 3",
   "language": "python",
   "name": "python3"
  },
  "language_info": {
   "codemirror_mode": {
    "name": "ipython",
    "version": 3
   },
   "file_extension": ".py",
   "mimetype": "text/x-python",
   "name": "python",
   "nbconvert_exporter": "python",
   "pygments_lexer": "ipython3",
   "version": "3.7.6"
  }
 },
 "nbformat": 4,
 "nbformat_minor": 4
}
