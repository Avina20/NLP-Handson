{
  "nbformat": 4,
  "nbformat_minor": 0,
  "metadata": {
    "kernelspec": {
      "display_name": "Python 3",
      "language": "python",
      "name": "python3"
    },
    "language_info": {
      "codemirror_mode": {
        "name": "ipython",
        "version": 3
      },
      "file_extension": ".py",
      "mimetype": "text/x-python",
      "name": "python",
      "nbconvert_exporter": "python",
      "pygments_lexer": "ipython3",
      "version": "3.7.6"
    },
    "colab": {
      "name": "Day6.ipynb",
      "provenance": [],
      "collapsed_sections": [],
      "include_colab_link": true
    }
  },
  "cells": [
    {
      "cell_type": "markdown",
      "metadata": {
        "id": "view-in-github",
        "colab_type": "text"
      },
      "source": [
        "<a href=\"https://colab.research.google.com/github/Avina20/NLP-Handson/blob/main/Day6.ipynb\" target=\"_parent\"><img src=\"https://colab.research.google.com/assets/colab-badge.svg\" alt=\"Open In Colab\"/></a>"
      ]
    },
    {
      "cell_type": "code",
      "metadata": {
        "id": "3VJtJ2avgOxs"
      },
      "source": [
        "import nltk"
      ],
      "execution_count": null,
      "outputs": []
    },
    {
      "cell_type": "code",
      "metadata": {
        "id": "wzoJ9WbHgOx-"
      },
      "source": [
        "sentence=[(\"the\",\"DT\"),(\"little\",\"JJ\"),(\"yellow\",\"JJ\"),(\"dog\",\"NN\"),(\"barked\",\"VBD\"),(\"at\",\"IN\"),(\"the\",\"DT\"),(\"cat\",\"NN\")]"
      ],
      "execution_count": null,
      "outputs": []
    },
    {
      "cell_type": "code",
      "metadata": {
        "id": "DX0U7YZdgOyM"
      },
      "source": [
        "grammar=\"NP:{<DT>?<JJ>*<NN>}\""
      ],
      "execution_count": null,
      "outputs": []
    },
    {
      "cell_type": "code",
      "metadata": {
        "id": "866i8ZuIgOyb",
        "outputId": "f54d76a0-3474-4552-ac8a-e46d35ce04c4"
      },
      "source": [
        "#productions from CFG for NP and VP\n",
        "\n",
        "c=nltk.RegexpParser(grammar)\n",
        "result = c.parse(sentence)\n",
        "print(result)"
      ],
      "execution_count": null,
      "outputs": [
        {
          "output_type": "stream",
          "text": [
            "(S\n",
            "  (NP the/DT little/JJ yellow/JJ dog/NN)\n",
            "  barked/VBD\n",
            "  at/IN\n",
            "  (NP the/DT cat/NN))\n"
          ],
          "name": "stdout"
        }
      ]
    },
    {
      "cell_type": "code",
      "metadata": {
        "id": "VlRuQbGGgOzR",
        "outputId": "0bb2ac9d-f524-42e0-d1ea-f66a8c094cae"
      },
      "source": [
        "result.draw()\n",
        "nltk.download('punkt')\n",
        "nltk.download('averaged_perceptron_tagger')"
      ],
      "execution_count": null,
      "outputs": [
        {
          "output_type": "stream",
          "text": [
            "[nltk_data] Downloading package punkt to\n",
            "[nltk_data]     C:\\Users\\Nitu\\AppData\\Roaming\\nltk_data...\n",
            "[nltk_data]   Unzipping tokenizers\\punkt.zip.\n",
            "[nltk_data] Downloading package averaged_perceptron_tagger to\n",
            "[nltk_data]     C:\\Users\\Nitu\\AppData\\Roaming\\nltk_data...\n",
            "[nltk_data]   Unzipping taggers\\averaged_perceptron_tagger.zip.\n"
          ],
          "name": "stderr"
        },
        {
          "output_type": "execute_result",
          "data": {
            "text/plain": [
              "True"
            ]
          },
          "metadata": {
            "tags": []
          },
          "execution_count": 5
        }
      ]
    },
    {
      "cell_type": "code",
      "metadata": {
        "id": "_ybeuaoygO1x"
      },
      "source": [
        "l = \"Four score and seven years ago our fathers roght forth o this continent, a new nation, concieved in Liberty, and dedicated to the proposition that all men are created equal.\"\n"
      ],
      "execution_count": null,
      "outputs": []
    },
    {
      "cell_type": "code",
      "metadata": {
        "id": "kIRjkmyRgO2u"
      },
      "source": [
        "from nltk.tokenize import sent_tokenize, word_tokenize\n",
        "sentences = nltk.sent_tokenize(l)\n",
        "for sent in sentences:\n",
        "  words = nltk.word_tokenize(sent)\n",
        "  tagged = nltk.pos_tag(words)"
      ],
      "execution_count": null,
      "outputs": []
    },
    {
      "cell_type": "code",
      "metadata": {
        "id": "0AXqaiJ4gO35",
        "outputId": "258f6357-3d65-40c7-8ef3-afd7f2287f79"
      },
      "source": [
        "#Nouns\n",
        "grammar=\"NP:{<NN>}\"\n",
        "c=nltk.RegexpParser(grammar)\n",
        "result=c.parse(tagged)\n",
        "print(result)\n"
      ],
      "execution_count": null,
      "outputs": [
        {
          "output_type": "stream",
          "text": [
            "(S\n",
            "  Four/CD\n",
            "  (NP score/NN)\n",
            "  and/CC\n",
            "  seven/CD\n",
            "  years/NNS\n",
            "  ago/RB\n",
            "  our/PRP$\n",
            "  fathers/NNS\n",
            "  roght/VBD\n",
            "  forth/RB\n",
            "  o/RB\n",
            "  this/DT\n",
            "  (NP continent/NN)\n",
            "  ,/,\n",
            "  a/DT\n",
            "  new/JJ\n",
            "  (NP nation/NN)\n",
            "  ,/,\n",
            "  concieved/VBN\n",
            "  in/IN\n",
            "  Liberty/NNP\n",
            "  ,/,\n",
            "  and/CC\n",
            "  dedicated/VBD\n",
            "  to/TO\n",
            "  the/DT\n",
            "  (NP proposition/NN)\n",
            "  that/IN\n",
            "  all/DT\n",
            "  men/NNS\n",
            "  are/VBP\n",
            "  created/VBN\n",
            "  equal/JJ\n",
            "  ./.)\n"
          ],
          "name": "stdout"
        }
      ]
    },
    {
      "cell_type": "code",
      "metadata": {
        "id": "ytY_sTfugO4G"
      },
      "source": [
        "result.draw()"
      ],
      "execution_count": null,
      "outputs": []
    },
    {
      "cell_type": "markdown",
      "metadata": {
        "id": "eFr1jsg3gVpQ"
      },
      "source": [
        "#Gettysburg Address"
      ]
    },
    {
      "cell_type": "code",
      "metadata": {
        "id": "Tlm6HhXjgJsk",
        "outputId": "b8962cde-5a00-41e4-ad3e-6258f8533003"
      },
      "source": [
        "tex2=\"Four score and seven years ago our fathers brought forth on this continent, a new nation, conceived in Liberty, and dedicated to the proposition that all men are created equal. \"\n",
        "grammar=\"VP:{<RB.?>*<VB.?>*<JJ>*<VB.?>+<VB>?}\"\n",
        "c= nltk.RegexpParser(grammar)\n",
        "b=nltk.pos_tag(tokens)\n",
        "\n",
        "result=c.parse(b)\n",
        "print(result)\n",
        "type(sentence)"
      ],
      "execution_count": null,
      "outputs": [
        {
          "output_type": "stream",
          "text": [
            "(S\n",
            "  Four/CD\n",
            "  score/NN\n",
            "  and/CC\n",
            "  seven/CD\n",
            "  years/NNS\n",
            "  ago/RB\n",
            "  our/PRP$\n",
            "  fathers/NNS\n",
            "  (VP brought/VBN)\n",
            "  forth/RB\n",
            "  on/IN\n",
            "  this/DT\n",
            "  continent/NN\n",
            "  ,/,\n",
            "  a/DT\n",
            "  new/JJ\n",
            "  nation/NN\n",
            "  ,/,\n",
            "  (VP conceived/VBN)\n",
            "  in/IN\n",
            "  Liberty/NNP\n",
            "  ,/,\n",
            "  and/CC\n",
            "  (VP dedicated/VBD)\n",
            "  to/TO\n",
            "  the/DT\n",
            "  proposition/NN\n",
            "  that/IN\n",
            "  all/DT\n",
            "  men/NNS\n",
            "  (VP are/VBP created/VBN)\n",
            "  equal/JJ\n",
            "  ./.)\n"
          ],
          "name": "stdout"
        },
        {
          "output_type": "execute_result",
          "data": {
            "text/plain": [
              "list"
            ]
          },
          "metadata": {
            "tags": []
          },
          "execution_count": 11
        }
      ]
    }
  ]
}