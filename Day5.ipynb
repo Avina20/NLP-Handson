{
  "nbformat": 4,
  "nbformat_minor": 0,
  "metadata": {
    "colab": {
      "name": "nlp.ipynb",
      "provenance": [],
      "collapsed_sections": []
    },
    "kernelspec": {
      "name": "python3",
      "display_name": "Python 3"
    }
  },
  "cells": [
    {
      "cell_type": "code",
      "metadata": {
        "id": "9oa94H-F2g2y"
      },
      "source": [
        "import spacy"
      ],
      "execution_count": null,
      "outputs": []
    },
    {
      "cell_type": "code",
      "metadata": {
        "id": "hYkGA3sSgA9P"
      },
      "source": [
        "m=spacy.load('en_core_web_sm')"
      ],
      "execution_count": null,
      "outputs": []
    },
    {
      "cell_type": "code",
      "metadata": {
        "id": "KnR3pDbDg7GK"
      },
      "source": [
        "eg1=\"Java was originally developed by James Gosling at Sun Microsystems\" + \" which has since been acquired by Oracle and released in 1995 as a core component of Sun Microsystems' Java platform\""
      ],
      "execution_count": null,
      "outputs": []
    },
    {
      "cell_type": "code",
      "metadata": {
        "id": "shrSBsaWhdXJ"
      },
      "source": [
        "doc = m(eg1)"
      ],
      "execution_count": null,
      "outputs": []
    },
    {
      "cell_type": "code",
      "metadata": {
        "id": "we91AjsxhiMQ",
        "outputId": "5ccdf165-236c-422d-8e0a-4fe95ef6b003",
        "colab": {
          "base_uri": "https://localhost:8080/",
          "height": 136
        }
      },
      "source": [
        "for ent in doc.ents:\n",
        "  print(ent.text, ent.label_)"
      ],
      "execution_count": null,
      "outputs": [
        {
          "output_type": "stream",
          "text": [
            "Java ORG\n",
            "James Gosling PERSON\n",
            "Sun Microsystems ORG\n",
            "Oracle ORG\n",
            "1995 DATE\n",
            "Sun Microsystems' ORG\n",
            "Java ORG\n"
          ],
          "name": "stdout"
        }
      ]
    },
    {
      "cell_type": "code",
      "metadata": {
        "id": "XfgI6ZzFhsdP"
      },
      "source": [
        "eg2 = \"U.S. oficials are meeting with former UN members\"+ \" amid intensifying eforts to wind down America's effort longest war of three\"+\" groups' commanders told NBC news\" "
      ],
      "execution_count": null,
      "outputs": []
    },
    {
      "cell_type": "code",
      "metadata": {
        "id": "7erv5zTXiq68",
        "outputId": "1126c3ce-b437-4a6a-8461-ec56ff9266d3",
        "colab": {
          "base_uri": "https://localhost:8080/",
          "height": 102
        }
      },
      "source": [
        "doc2 = m(eg2)\n",
        "for ent in doc2.ents:\n",
        "  print(ent.text, ent.label_)"
      ],
      "execution_count": null,
      "outputs": [
        {
          "output_type": "stream",
          "text": [
            "U.S. GPE\n",
            "UN ORG\n",
            "America GPE\n",
            "three CARDINAL\n",
            "NBC ORG\n"
          ],
          "name": "stdout"
        }
      ]
    },
    {
      "cell_type": "code",
      "metadata": {
        "id": "EJot-NjDi4Kr"
      },
      "source": [
        "#WORK_OF_ART(degree abum name)\n",
        "#FAC(man made structures)\n",
        "#Any other NER\n",
        "#try some domain specific jargon and see if model handles well"
      ],
      "execution_count": null,
      "outputs": []
    },
    {
      "cell_type": "code",
      "metadata": {
        "id": "knI-KKatkCbr",
        "outputId": "fe6405de-0e6b-43d1-c052-d8ec950aa380",
        "colab": {
          "base_uri": "https://localhost:8080/",
          "height": 119
        }
      },
      "source": [
        "eg3 = \"Selena Gomez was working on her book 'The Autobiography of Singers' while sitting on Statue of Liberty after completing her MBA from Cornell University\"+\"She has a blue car of Maruti and lives in Mount Everest\"\n",
        "doc3 = m(eg3)\n",
        "for ent in doc3.ents:\n",
        "  print(ent.text, ent.label_)"
      ],
      "execution_count": null,
      "outputs": [
        {
          "output_type": "stream",
          "text": [
            "Selena Gomez PERSON\n",
            "'The Autobiography of Singers' WORK_OF_ART\n",
            "Statue of Liberty FAC\n",
            "Cornell UniversityShe ORG\n",
            "Maruti GPE\n",
            "Mount Everest LOC\n"
          ],
          "name": "stdout"
        }
      ]
    },
    {
      "cell_type": "code",
      "metadata": {
        "id": "1-V1Mwc1kjJO",
        "outputId": "db744f4f-ffff-493a-f03a-c0f1ed411390",
        "colab": {
          "base_uri": "https://localhost:8080/",
          "height": 238
        }
      },
      "source": [
        "eg4 = \"A generative adversarial network (GAN) is a class of machine learning frameworks designed by Ian Goodfellow and his colleagues in 2014\"+\" GANs can be used to generate art; The Verge wrote in March 2019 that 'The images created by GANs have become the defining look of contemporary AI art.'\"+\"A GAN system was used to create the 2018 painting Edmond de Belamy, which sold for US$432,500. GANs provide a clearer and sharper 2D texture image magnitudes higher in quality than the original, while fully retaining the original's level of details, colors, etc. Such networks were reported to be used by Facebook. The most direct inspiration for GANs was noise-contrastive estimation,[46] which uses the same loss function as GANs and which Goodfellow studied during his PhD in 2010–2014\"\n",
        "doc4 = m(eg4)\n",
        "for ent in doc4.ents:\n",
        "  print(ent.text, ent.label_)"
      ],
      "execution_count": null,
      "outputs": [
        {
          "output_type": "stream",
          "text": [
            "GAN ORG\n",
            "Ian Goodfellow PERSON\n",
            "2014 DATE\n",
            "Verge ORG\n",
            "March 2019 DATE\n",
            "GAN ORG\n",
            "2018 DATE\n",
            "Edmond de Belamy PERSON\n",
            "432,500 MONEY\n",
            "2D CARDINAL\n",
            "Facebook ORG\n",
            "Goodfellow ORG\n",
            "PhD WORK_OF_ART\n"
          ],
          "name": "stdout"
        }
      ]
    },
    {
      "cell_type": "code",
      "metadata": {
        "id": "8lsN5fZpoIE0"
      },
      "source": [
        "#Querying"
      ],
      "execution_count": null,
      "outputs": []
    },
    {
      "cell_type": "code",
      "metadata": {
        "id": "WnlyuIf5qIIZ"
      },
      "source": [
        "locs = [('Omnicom', 'IN', 'New York'),('DDB Needham', 'IN', 'New York'),('Kaplan Thaler Group', 'IN', 'New York'),('BBDO South', 'IN', 'Atlanta'), ('Georgia-Pacific', 'IN', 'Atlanta')]\n",
        "query = [e1 for (e1, rel, e2) in locs if e2=='Atlanta']"
      ],
      "execution_count": null,
      "outputs": []
    },
    {
      "cell_type": "code",
      "metadata": {
        "id": "OoDZ90kuqjwF",
        "outputId": "1ebc4160-2841-4380-8177-579aa2ccc117",
        "colab": {
          "base_uri": "https://localhost:8080/",
          "height": 34
        }
      },
      "source": [
        "query"
      ],
      "execution_count": null,
      "outputs": [
        {
          "output_type": "execute_result",
          "data": {
            "text/plain": [
              "['BBDO South', 'Georgia-Pacific']"
            ]
          },
          "metadata": {
            "tags": []
          },
          "execution_count": 42
        }
      ]
    },
    {
      "cell_type": "code",
      "metadata": {
        "id": "PVGxxyCiqqA2"
      },
      "source": [
        ""
      ],
      "execution_count": null,
      "outputs": []
    }
  ]
}